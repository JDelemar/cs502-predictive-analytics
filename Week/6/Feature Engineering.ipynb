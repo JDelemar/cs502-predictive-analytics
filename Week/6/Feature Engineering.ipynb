{
 "cells": [
  {
   "cell_type": "markdown",
   "metadata": {},
   "source": [
    "# Feature Engineering\n",
    "\n",
    "Feature Engineering"
   ]
  },
  {
   "cell_type": "markdown",
   "metadata": {},
   "source": [
    "## Imports\n",
    "\n",
    "- Imports\n",
    "  - `import seaborn as sns` results in an error: `no module name seaborn`\n",
    "    - Resolve by installing the seaborn package via pip: `python3 -m pip install -U seaborn`\n",
    "    - If you must upgrade pip: `pip install --upgrade pip`"
   ]
  },
  {
   "cell_type": "code",
   "execution_count": 2,
   "metadata": {
    "tags": []
   },
   "outputs": [],
   "source": [
    "import pandas as pd\n",
    "import seaborn as sns\n",
    "import matplotlib.pyplot as plt"
   ]
  },
  {
   "cell_type": "markdown",
   "metadata": {},
   "source": [
    "## Load the data\n",
    "\n",
    "- Load the data\n",
    "  - Pandas `read_excel` may result in error: `Missing optional dependency 'openpyxl'`\n",
    "    - Resolve by installing `openpyxl` with: `python3 -m pip install -U openpyxl`"
   ]
  },
  {
   "cell_type": "code",
   "execution_count": 15,
   "metadata": {
    "tags": []
   },
   "outputs": [
    {
     "name": "stdout",
     "output_type": "stream",
     "text": [
      "<class 'pandas.core.frame.DataFrame'>\n",
      "RangeIndex: 4177 entries, 0 to 4176\n",
      "Data columns (total 9 columns):\n",
      " #   Column           Non-Null Count  Dtype  \n",
      "---  ------           --------------  -----  \n",
      " 0   gender           4177 non-null   object \n",
      " 1   length           4163 non-null   float64\n",
      " 2   diameter         4163 non-null   float64\n",
      " 3   height           4177 non-null   float64\n",
      " 4   full_weight      4177 non-null   float64\n",
      " 5   no_shell_weight  4177 non-null   float64\n",
      " 6   core_weight      4177 non-null   float64\n",
      " 7   shell_weight     4147 non-null   float64\n",
      " 8   age              4177 non-null   int64  \n",
      "dtypes: float64(7), int64(1), object(1)\n",
      "memory usage: 293.8+ KB\n"
     ]
    }
   ],
   "source": [
    "FILE_NAME = 'snail_size.xlsx'\n",
    "snails = pd.read_excel(FILE_NAME, index_col=None)\n",
    "snails.info()"
   ]
  },
  {
   "cell_type": "markdown",
   "metadata": {},
   "source": [
    "## Typo check"
   ]
  },
  {
   "cell_type": "code",
   "execution_count": 16,
   "metadata": {
    "tags": []
   },
   "outputs": [
    {
     "data": {
      "text/plain": [
       "gender\n",
       "M          1528\n",
       "Infant     1335\n",
       "F          1307\n",
       "Instant       7\n",
       "Name: count, dtype: int64"
      ]
     },
     "execution_count": 16,
     "metadata": {},
     "output_type": "execute_result"
    }
   ],
   "source": [
    "snails['gender'].value_counts()"
   ]
  },
  {
   "cell_type": "markdown",
   "metadata": {},
   "source": [
    "### Correct misspelling"
   ]
  },
  {
   "cell_type": "code",
   "execution_count": 17,
   "metadata": {
    "tags": []
   },
   "outputs": [],
   "source": [
    "snails['gender'] = snails['gender'].replace('Instant', 'Infant')"
   ]
  },
  {
   "cell_type": "markdown",
   "metadata": {},
   "source": [
    "## Categorical Data\n",
    "\n",
    "- `ModuleNotFoundError`: No module named 'category_encoders'\n",
    "  - Resolve by adding packages `apk add python3-dev build-base gfortran openblas-dev`\n",
    "  - Then `python3 -m pip install -U category_encoders` and wait a very long time"
   ]
  },
  {
   "cell_type": "code",
   "execution_count": 18,
   "metadata": {
    "tags": []
   },
   "outputs": [
    {
     "data": {
      "text/plain": [
       "<seaborn.axisgrid.FacetGrid at 0x7fd83f256450>"
      ]
     },
     "execution_count": 18,
     "metadata": {},
     "output_type": "execute_result"
    },
    {
     "data": {
      "image/png": "[encoded data removed]",
      "text/plain": [
       "<Figure size 500x500 with 1 Axes>"
      ]
     },
     "metadata": {},
     "output_type": "display_data"
    }
   ],
   "source": [
    "import category_encoders as ce\n",
    "\n",
    "sns.set_theme(style=\"ticks\", color_codes=True)\n",
    "sns.catplot(x='gender', kind='count', data=snails)"
   ]
  },
  {
   "cell_type": "code",
   "execution_count": 19,
   "metadata": {
    "tags": []
   },
   "outputs": [
    {
     "data": {
      "text/html": [
       "<div>\n",
       "<style scoped>\n",
       "    .dataframe tbody tr th:only-of-type {\n",
       "        vertical-align: middle;\n",
       "    }\n",
       "\n",
       "    .dataframe tbody tr th {\n",
       "        vertical-align: top;\n",
       "    }\n",
       "\n",
       "    .dataframe thead th {\n",
       "        text-align: right;\n",
       "    }\n",
       "</style>\n",
       "<table border=\"1\" class=\"dataframe\">\n",
       "  <thead>\n",
       "    <tr style=\"text-align: right;\">\n",
       "      <th></th>\n",
       "      <th>0</th>\n",
       "      <th>1</th>\n",
       "      <th>2</th>\n",
       "      <th>3</th>\n",
       "      <th>4</th>\n",
       "    </tr>\n",
       "  </thead>\n",
       "  <tbody>\n",
       "    <tr>\n",
       "      <th>gender</th>\n",
       "      <td>M</td>\n",
       "      <td>M</td>\n",
       "      <td>F</td>\n",
       "      <td>M</td>\n",
       "      <td>Infant</td>\n",
       "    </tr>\n",
       "    <tr>\n",
       "      <th>length</th>\n",
       "      <td>0.455</td>\n",
       "      <td>0.35</td>\n",
       "      <td>0.53</td>\n",
       "      <td>0.44</td>\n",
       "      <td>0.33</td>\n",
       "    </tr>\n",
       "    <tr>\n",
       "      <th>diameter</th>\n",
       "      <td>0.365</td>\n",
       "      <td>0.265</td>\n",
       "      <td>0.42</td>\n",
       "      <td>0.365</td>\n",
       "      <td>0.255</td>\n",
       "    </tr>\n",
       "    <tr>\n",
       "      <th>height</th>\n",
       "      <td>0.095</td>\n",
       "      <td>0.09</td>\n",
       "      <td>0.135</td>\n",
       "      <td>0.125</td>\n",
       "      <td>0.08</td>\n",
       "    </tr>\n",
       "    <tr>\n",
       "      <th>full_weight</th>\n",
       "      <td>0.514</td>\n",
       "      <td>0.2255</td>\n",
       "      <td>0.677</td>\n",
       "      <td>0.516</td>\n",
       "      <td>0.205</td>\n",
       "    </tr>\n",
       "    <tr>\n",
       "      <th>no_shell_weight</th>\n",
       "      <td>0.2245</td>\n",
       "      <td>0.0995</td>\n",
       "      <td>0.2565</td>\n",
       "      <td>0.2155</td>\n",
       "      <td>0.0895</td>\n",
       "    </tr>\n",
       "    <tr>\n",
       "      <th>core_weight</th>\n",
       "      <td>0.101</td>\n",
       "      <td>0.0485</td>\n",
       "      <td>0.1415</td>\n",
       "      <td>0.114</td>\n",
       "      <td>0.0395</td>\n",
       "    </tr>\n",
       "    <tr>\n",
       "      <th>shell_weight</th>\n",
       "      <td>0.15</td>\n",
       "      <td>0.07</td>\n",
       "      <td>0.21</td>\n",
       "      <td>NaN</td>\n",
       "      <td>0.055</td>\n",
       "    </tr>\n",
       "    <tr>\n",
       "      <th>age</th>\n",
       "      <td>15</td>\n",
       "      <td>7</td>\n",
       "      <td>9</td>\n",
       "      <td>10</td>\n",
       "      <td>7</td>\n",
       "    </tr>\n",
       "    <tr>\n",
       "      <th>gender_type</th>\n",
       "      <td>1</td>\n",
       "      <td>1</td>\n",
       "      <td>2</td>\n",
       "      <td>1</td>\n",
       "      <td>3</td>\n",
       "    </tr>\n",
       "  </tbody>\n",
       "</table>\n",
       "</div>"
      ],
      "text/plain": [
       "                      0       1       2       3       4\n",
       "gender                M       M       F       M  Infant\n",
       "length            0.455    0.35    0.53    0.44    0.33\n",
       "diameter          0.365   0.265    0.42   0.365   0.255\n",
       "height            0.095    0.09   0.135   0.125    0.08\n",
       "full_weight       0.514  0.2255   0.677   0.516   0.205\n",
       "no_shell_weight  0.2245  0.0995  0.2565  0.2155  0.0895\n",
       "core_weight       0.101  0.0485  0.1415   0.114  0.0395\n",
       "shell_weight       0.15    0.07    0.21     NaN   0.055\n",
       "age                  15       7       9      10       7\n",
       "gender_type           1       1       2       1       3"
      ]
     },
     "execution_count": 19,
     "metadata": {},
     "output_type": "execute_result"
    }
   ],
   "source": [
    "encoder = ce.OrdinalEncoder(cols=['gender'])\n",
    "snails_encoded = encoder.fit_transform(snails)\n",
    "\n",
    "snails['gender_type'] = snails_encoded['gender']\n",
    "snails.head().T"
   ]
  }
 ],
 "metadata": {
  "kernelspec": {
   "display_name": "Python 3 (ipykernel)",
   "language": "python",
   "name": "python3"
  },
  "language_info": {
   "codemirror_mode": {
    "name": "ipython",
    "version": 3
   },
   "file_extension": ".py",
   "mimetype": "text/x-python",
   "name": "python",
   "nbconvert_exporter": "python",
   "pygments_lexer": "ipython3",
   "version": "3.11.3"
  }
 },
 "nbformat": 4,
 "nbformat_minor": 4
}
