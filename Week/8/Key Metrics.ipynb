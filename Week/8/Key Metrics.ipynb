{
 "cells": [
  {
   "cell_type": "markdown",
   "metadata": {},
   "source": [
    "# Key Metrics\n",
    "\n",
    "Key Metrics\n",
    "\n",
    "## Imports"
   ]
  },
  {
   "cell_type": "code",
   "execution_count": 2,
   "metadata": {
    "tags": []
   },
   "outputs": [],
   "source": [
    "import numpy as np\n",
    "import pandas as pd"
   ]
  },
  {
   "cell_type": "markdown",
   "metadata": {},
   "source": [
    "## Load the data"
   ]
  },
  {
   "cell_type": "code",
   "execution_count": 3,
   "metadata": {
    "tags": []
   },
   "outputs": [
    {
     "name": "stdout",
     "output_type": "stream",
     "text": [
      "<class 'pandas.core.frame.DataFrame'>\n",
      "RangeIndex: 30 entries, 0 to 29\n",
      "Data columns (total 11 columns):\n",
      " #   Column               Non-Null Count  Dtype  \n",
      "---  ------               --------------  -----  \n",
      " 0   date                 30 non-null     object \n",
      " 1   day                  30 non-null     object \n",
      " 2   temp_high            30 non-null     float64\n",
      " 3   temp_low             30 non-null     float64\n",
      " 4   rain_amt             30 non-null     object \n",
      " 5   brooklyn_bridge      30 non-null     int64  \n",
      " 6   manhattan_bridge     30 non-null     int64  \n",
      " 7   williamsburg_bridge  30 non-null     int64  \n",
      " 8   queensboro_bridge    30 non-null     int64  \n",
      " 9   total_cyclists       30 non-null     int64  \n",
      " 10  Unnamed: 10          1 non-null      object \n",
      "dtypes: float64(2), int64(5), object(4)\n",
      "memory usage: 2.7+ KB\n"
     ]
    }
   ],
   "source": [
    "FILE_NAME = '04_2017_bike_data.csv'\n",
    "bike = pd.read_csv(FILE_NAME, index_col=None, thousands=',')\n",
    "bike.info()"
   ]
  },
  {
   "cell_type": "markdown",
   "metadata": {},
   "source": [
    "## Convert string to numerical data"
   ]
  },
  {
   "cell_type": "code",
   "execution_count": 4,
   "metadata": {
    "tags": []
   },
   "outputs": [
    {
     "data": {
      "text/html": [
       "<div>\n",
       "<style scoped>\n",
       "    .dataframe tbody tr th:only-of-type {\n",
       "        vertical-align: middle;\n",
       "    }\n",
       "\n",
       "    .dataframe tbody tr th {\n",
       "        vertical-align: top;\n",
       "    }\n",
       "\n",
       "    .dataframe thead th {\n",
       "        text-align: right;\n",
       "    }\n",
       "</style>\n",
       "<table border=\"1\" class=\"dataframe\">\n",
       "  <thead>\n",
       "    <tr style=\"text-align: right;\">\n",
       "      <th></th>\n",
       "      <th>temp_high</th>\n",
       "      <th>temp_low</th>\n",
       "      <th>rain_amt</th>\n",
       "      <th>brooklyn_bridge</th>\n",
       "      <th>manhattan_bridge</th>\n",
       "      <th>williamsburg_bridge</th>\n",
       "      <th>queensboro_bridge</th>\n",
       "      <th>total_cyclists</th>\n",
       "    </tr>\n",
       "  </thead>\n",
       "  <tbody>\n",
       "    <tr>\n",
       "      <th>count</th>\n",
       "      <td>30.000000</td>\n",
       "      <td>30.000000</td>\n",
       "      <td>30.000000</td>\n",
       "      <td>30.000000</td>\n",
       "      <td>30.000000</td>\n",
       "      <td>30.000000</td>\n",
       "      <td>30.000000</td>\n",
       "      <td>30.000000</td>\n",
       "    </tr>\n",
       "    <tr>\n",
       "      <th>mean</th>\n",
       "      <td>63.776667</td>\n",
       "      <td>50.686667</td>\n",
       "      <td>0.128167</td>\n",
       "      <td>2250.100000</td>\n",
       "      <td>4353.900000</td>\n",
       "      <td>4942.266667</td>\n",
       "      <td>3482.800000</td>\n",
       "      <td>15029.066667</td>\n",
       "    </tr>\n",
       "    <tr>\n",
       "      <th>std</th>\n",
       "      <td>10.646796</td>\n",
       "      <td>7.243391</td>\n",
       "      <td>0.293974</td>\n",
       "      <td>980.301198</td>\n",
       "      <td>1692.501767</td>\n",
       "      <td>1733.685449</td>\n",
       "      <td>1146.582971</td>\n",
       "      <td>5517.675272</td>\n",
       "    </tr>\n",
       "    <tr>\n",
       "      <th>min</th>\n",
       "      <td>46.000000</td>\n",
       "      <td>37.000000</td>\n",
       "      <td>0.000000</td>\n",
       "      <td>461.000000</td>\n",
       "      <td>1324.000000</td>\n",
       "      <td>1739.000000</td>\n",
       "      <td>1372.000000</td>\n",
       "      <td>4896.000000</td>\n",
       "    </tr>\n",
       "    <tr>\n",
       "      <th>25%</th>\n",
       "      <td>55.900000</td>\n",
       "      <td>46.000000</td>\n",
       "      <td>0.000000</td>\n",
       "      <td>1461.250000</td>\n",
       "      <td>3147.250000</td>\n",
       "      <td>3776.000000</td>\n",
       "      <td>2709.500000</td>\n",
       "      <td>11088.000000</td>\n",
       "    </tr>\n",
       "    <tr>\n",
       "      <th>50%</th>\n",
       "      <td>64.000000</td>\n",
       "      <td>50.000000</td>\n",
       "      <td>0.000500</td>\n",
       "      <td>2422.500000</td>\n",
       "      <td>4608.500000</td>\n",
       "      <td>5141.500000</td>\n",
       "      <td>3560.500000</td>\n",
       "      <td>15783.500000</td>\n",
       "    </tr>\n",
       "    <tr>\n",
       "      <th>75%</th>\n",
       "      <td>67.500000</td>\n",
       "      <td>54.750000</td>\n",
       "      <td>0.052500</td>\n",
       "      <td>2954.750000</td>\n",
       "      <td>5545.250000</td>\n",
       "      <td>6040.250000</td>\n",
       "      <td>4263.000000</td>\n",
       "      <td>18927.500000</td>\n",
       "    </tr>\n",
       "    <tr>\n",
       "      <th>max</th>\n",
       "      <td>84.900000</td>\n",
       "      <td>64.000000</td>\n",
       "      <td>1.180000</td>\n",
       "      <td>3887.000000</td>\n",
       "      <td>7247.000000</td>\n",
       "      <td>8079.000000</td>\n",
       "      <td>5501.000000</td>\n",
       "      <td>24714.000000</td>\n",
       "    </tr>\n",
       "  </tbody>\n",
       "</table>\n",
       "</div>"
      ],
      "text/plain": [
       "       temp_high   temp_low   rain_amt  brooklyn_bridge  manhattan_bridge   \n",
       "count  30.000000  30.000000  30.000000        30.000000         30.000000  \\\n",
       "mean   63.776667  50.686667   0.128167      2250.100000       4353.900000   \n",
       "std    10.646796   7.243391   0.293974       980.301198       1692.501767   \n",
       "min    46.000000  37.000000   0.000000       461.000000       1324.000000   \n",
       "25%    55.900000  46.000000   0.000000      1461.250000       3147.250000   \n",
       "50%    64.000000  50.000000   0.000500      2422.500000       4608.500000   \n",
       "75%    67.500000  54.750000   0.052500      2954.750000       5545.250000   \n",
       "max    84.900000  64.000000   1.180000      3887.000000       7247.000000   \n",
       "\n",
       "       williamsburg_bridge  queensboro_bridge  total_cyclists  \n",
       "count            30.000000          30.000000       30.000000  \n",
       "mean           4942.266667        3482.800000    15029.066667  \n",
       "std            1733.685449        1146.582971     5517.675272  \n",
       "min            1739.000000        1372.000000     4896.000000  \n",
       "25%            3776.000000        2709.500000    11088.000000  \n",
       "50%            5141.500000        3560.500000    15783.500000  \n",
       "75%            6040.250000        4263.000000    18927.500000  \n",
       "max            8079.000000        5501.000000    24714.000000  "
      ]
     },
     "execution_count": 4,
     "metadata": {},
     "output_type": "execute_result"
    }
   ],
   "source": [
    "# 'T' is for trace amount of rain\n",
    "bike['rain_amt'] = bike['rain_amt'] \\\n",
    ".replace('0', 0.0) \\\n",
    ".replace('T', 0.001) \\\n",
    ".replace(',', '', regex=True).astype(float)\n",
    "\n",
    "bike.describe()"
   ]
  },
  {
   "cell_type": "markdown",
   "metadata": {},
   "source": [
    "## Convert date to actual date time"
   ]
  },
  {
   "cell_type": "code",
   "execution_count": 5,
   "metadata": {
    "tags": []
   },
   "outputs": [],
   "source": [
    "from datetime import datetime\n",
    "\n",
    "current_year = datetime.now().year\n",
    "\n",
    "bike['date'] = pd.to_datetime(bike['date'] + ' ' + str(current_year))"
   ]
  },
  {
   "cell_type": "markdown",
   "metadata": {},
   "source": [
    "## Standardization - centering and scaling"
   ]
  },
  {
   "cell_type": "code",
   "execution_count": 6,
   "metadata": {
    "tags": []
   },
   "outputs": [
    {
     "data": {
      "text/html": [
       "<div>\n",
       "<style scoped>\n",
       "    .dataframe tbody tr th:only-of-type {\n",
       "        vertical-align: middle;\n",
       "    }\n",
       "\n",
       "    .dataframe tbody tr th {\n",
       "        vertical-align: top;\n",
       "    }\n",
       "\n",
       "    .dataframe thead th {\n",
       "        text-align: right;\n",
       "    }\n",
       "</style>\n",
       "<table border=\"1\" class=\"dataframe\">\n",
       "  <thead>\n",
       "    <tr style=\"text-align: right;\">\n",
       "      <th></th>\n",
       "      <th>temp_high</th>\n",
       "      <th>temp_low</th>\n",
       "      <th>rain_amt</th>\n",
       "    </tr>\n",
       "  </thead>\n",
       "  <tbody>\n",
       "    <tr>\n",
       "      <th>26</th>\n",
       "      <td>0.322301</td>\n",
       "      <td>1.110996</td>\n",
       "      <td>-0.413021</td>\n",
       "    </tr>\n",
       "    <tr>\n",
       "      <th>8</th>\n",
       "      <td>0.132091</td>\n",
       "      <td>-0.914843</td>\n",
       "      <td>-0.413021</td>\n",
       "    </tr>\n",
       "    <tr>\n",
       "      <th>27</th>\n",
       "      <td>1.739371</td>\n",
       "      <td>0.951823</td>\n",
       "      <td>-0.413021</td>\n",
       "    </tr>\n",
       "    <tr>\n",
       "      <th>12</th>\n",
       "      <td>-0.058120</td>\n",
       "      <td>-0.350502</td>\n",
       "      <td>-0.413021</td>\n",
       "    </tr>\n",
       "    <tr>\n",
       "      <th>21</th>\n",
       "      <td>-0.828473</td>\n",
       "      <td>0.098076</td>\n",
       "      <td>-0.019226</td>\n",
       "    </tr>\n",
       "  </tbody>\n",
       "</table>\n",
       "</div>"
      ],
      "text/plain": [
       "    temp_high  temp_low  rain_amt\n",
       "26   0.322301  1.110996 -0.413021\n",
       "8    0.132091 -0.914843 -0.413021\n",
       "27   1.739371  0.951823 -0.413021\n",
       "12  -0.058120 -0.350502 -0.413021\n",
       "21  -0.828473  0.098076 -0.019226"
      ]
     },
     "execution_count": 6,
     "metadata": {},
     "output_type": "execute_result"
    }
   ],
   "source": [
    "bike['total_cyclists_pred'] = bike['total_cyclists']\n",
    "\n",
    "numerical_features = ['temp_high', 'temp_low', 'rain_amt']\n",
    "\n",
    "# prepare features (X - input variables) and the target (y) variable\n",
    "X = bike[numerical_features]\n",
    "y = bike['total_cyclists_pred']\n",
    "\n",
    "from sklearn.model_selection import train_test_split\n",
    "\n",
    "# 90-10 split\n",
    "# split the data into training and testing sets\n",
    "X_train, X_test, y_train, y_test = train_test_split(X, y, test_size=0.1, random_state=123)\n",
    "\n",
    "from sklearn.preprocessing import StandardScaler\n",
    "\n",
    "scaler = StandardScaler()\n",
    "\n",
    "scaler.fit(X_train[numerical_features])\n",
    "\n",
    "X_train.loc[:, numerical_features] = scaler.transform(X_train[numerical_features])\n",
    "\n",
    "#bike.head()\n",
    "#X.head()\n",
    "X_train[numerical_features].head()"
   ]
  },
  {
   "cell_type": "markdown",
   "metadata": {},
   "source": [
    "## Multiple Linear Regression (MLR)"
   ]
  },
  {
   "cell_type": "code",
   "execution_count": 7,
   "metadata": {
    "tags": []
   },
   "outputs": [
    {
     "data": {
      "text/plain": [
       "temp_high    3013.27\n",
       "temp_low      326.02\n",
       "rain_amt    -1990.62\n",
       "dtype: float64"
      ]
     },
     "execution_count": 7,
     "metadata": {},
     "output_type": "execute_result"
    }
   ],
   "source": [
    "from sklearn.linear_model import LinearRegression\n",
    "\n",
    "ml_reg = LinearRegression()\n",
    "\n",
    "ml_reg.fit(X_train, y_train)\n",
    "\n",
    "y_pred_ml_reg = ml_reg.predict(X_train)\n",
    "\n",
    "pd.Series(ml_reg.coef_, index=X_train.columns).sort_values(ascending=False).round(2)"
   ]
  },
  {
   "cell_type": "markdown",
   "metadata": {},
   "source": [
    "## Mean squared error (MSE)"
   ]
  },
  {
   "cell_type": "code",
   "execution_count": 14,
   "metadata": {
    "tags": []
   },
   "outputs": [
    {
     "name": "stdout",
     "output_type": "stream",
     "text": [
      "MSE: 8.59M\n"
     ]
    }
   ],
   "source": [
    "from sklearn.metrics import mean_squared_error\n",
    "\n",
    "mse_ml_reg = mean_squared_error(y_true=y_train, y_pred=y_pred_ml_reg)\n",
    "\n",
    "print('MSE: {:0.2f}M'.format(mse_ml_reg/1e6))"
   ]
  },
  {
   "cell_type": "code",
   "execution_count": 15,
   "metadata": {
    "tags": []
   },
   "outputs": [
    {
     "name": "stdout",
     "output_type": "stream",
     "text": [
      "MSE Null Model: 28.13M\n"
     ]
    }
   ],
   "source": [
    "# The above number should be lower than this number\n",
    "y_pred_null_model = np.full(y_train.shape, y_train.mean())\n",
    "mse_null_model = mean_squared_error(y_true=y_train, y_pred=y_pred_null_model)\n",
    "#mse_null_model\n",
    "print('MSE Null Model: {:0.2f}M'.format(mse_null_model/1e6))"
   ]
  },
  {
   "cell_type": "markdown",
   "metadata": {},
   "source": [
    "## Root Mean Squared Error (RMSE)"
   ]
  },
  {
   "cell_type": "code",
   "execution_count": 16,
   "metadata": {
    "tags": []
   },
   "outputs": [
    {
     "name": "stdout",
     "output_type": "stream",
     "text": [
      "RMSE: 2930.31\n"
     ]
    }
   ],
   "source": [
    "rmse = np.sqrt(mse_ml_reg)\n",
    "print('RMSE: {:0.2f}'.format(rmse))"
   ]
  },
  {
   "cell_type": "markdown",
   "metadata": {},
   "source": [
    "## Mean Absolute Error (MAE)"
   ]
  },
  {
   "cell_type": "code",
   "execution_count": 17,
   "metadata": {
    "tags": []
   },
   "outputs": [
    {
     "name": "stdout",
     "output_type": "stream",
     "text": [
      "MAE: 2428.13\n"
     ]
    }
   ],
   "source": [
    "from sklearn.metrics import mean_absolute_error\n",
    "\n",
    "mae = mean_absolute_error(y_true=y_train, y_pred=y_pred_ml_reg)\n",
    "print('MAE: {:0.2f}'.format(mae))"
   ]
  },
  {
   "cell_type": "markdown",
   "metadata": {},
   "source": [
    "## R-Squared"
   ]
  },
  {
   "cell_type": "code",
   "execution_count": 18,
   "metadata": {
    "tags": []
   },
   "outputs": [
    {
     "name": "stdout",
     "output_type": "stream",
     "text": [
      "R-Squared: 0.69\n"
     ]
    }
   ],
   "source": [
    "from sklearn.metrics import r2_score\n",
    "\n",
    "r2 = r2_score(y_true=y_train, y_pred=y_pred_ml_reg)\n",
    "print('R-Squared: {:0.2f}'.format(r2))"
   ]
  }
 ],
 "metadata": {
  "kernelspec": {
   "display_name": "Python 3 (ipykernel)",
   "language": "python",
   "name": "python3"
  },
  "language_info": {
   "codemirror_mode": {
    "name": "ipython",
    "version": 3
   },
   "file_extension": ".py",
   "mimetype": "text/x-python",
   "name": "python",
   "nbconvert_exporter": "python",
   "pygments_lexer": "ipython3",
   "version": "3.11.3"
  }
 },
 "nbformat": 4,
 "nbformat_minor": 4
}
