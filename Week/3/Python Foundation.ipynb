{
 "cells": [
  {
   "attachments": {},
   "cell_type": "markdown",
   "metadata": {},
   "source": [
    "# Python Foundation\n",
    "\n",
    "Python Foundation"
   ]
  },
  {
   "attachments": {},
   "cell_type": "markdown",
   "metadata": {},
   "source": [
    "## Imports"
   ]
  },
  {
   "cell_type": "code",
   "execution_count": 4,
   "metadata": {},
   "outputs": [
    {
     "name": "stdout",
     "output_type": "stream",
     "text": [
      "Python version: 3.11.3\n",
      "Pandas version: 2.0.0\n"
     ]
    }
   ],
   "source": [
    "from platform import python_version\n",
    "import pandas as pd\n",
    "\n",
    "print(f'Python version: {python_version()}')\n",
    "print(f'Pandas version: {pd.__version__}')"
   ]
  },
  {
   "attachments": {},
   "cell_type": "markdown",
   "metadata": {},
   "source": [
    "## Read data"
   ]
  },
  {
   "cell_type": "code",
   "execution_count": 5,
   "metadata": {},
   "outputs": [
    {
     "name": "stdout",
     "output_type": "stream",
     "text": [
      "Original data:\n",
      "            x0         x1         x34        x35       x36          x41   \n",
      "0     0.196063   3.683995       tesla    thurday -4.664154     $124.72   \\\n",
      "1    23.155197  -9.226725      Toyota       thur  5.220242   $1,273.04    \n",
      "2   -13.969618  -0.343978         bmw  wednesday -0.061424  ($1,651.19)   \n",
      "3    49.722481  -1.500789      Toyota        wed  1.908461     $896.05    \n",
      "4   -13.494403   7.445215       Honda  wednesday  0.074133  ($1,710.27)   \n",
      "..         ...        ...         ...        ...       ...          ...   \n",
      "994  18.373405  -7.902737  volkswagon        wed -3.651558  ($1,520.19)   \n",
      "995  55.762861 -11.687225         bmw    thurday  3.204393     $687.44    \n",
      "996  -8.957643  11.970364       Honda  wednesday  0.309493     $419.60    \n",
      "997   5.887040   5.370001  volkswagon    thurday -3.700755  ($1,214.32)   \n",
      "998   6.778203  -6.325029  volkswagon        wed -3.745862     $980.70    \n",
      "\n",
      "        x45        x46   x68        x84      x93       x94  \n",
      "0    -0.01%  14.360555   Jun -11.072770     asia  0.023357  \n",
      "1    -0.01%   0.328324  July   4.601376     asia  1.349389  \n",
      "2     0.00%   3.824882   Aug  17.351746     asia  2.149993  \n",
      "3     0.01%  -6.201024   Aug   6.084073     asia -3.052037  \n",
      "4     0.01% -12.547338   May  10.035783     asia -0.100660  \n",
      "..      ...        ...   ...        ...      ...       ...  \n",
      "994   0.00%  -4.009639   Oct   8.519576     asia -0.790982  \n",
      "995  -0.02% -13.827186  July   4.745582     asia  2.529016  \n",
      "996   0.00%   2.905907   May  -0.643147     asia  0.600268  \n",
      "997  -0.01%   3.089698  July  -5.489663   euorpe  1.017123  \n",
      "998  -0.01%   8.173062   Jun  12.089001  america -0.290048  \n",
      "\n",
      "[999 rows x 12 columns]\n"
     ]
    }
   ],
   "source": [
    "df = pd.read_csv('Week/3/assignment_3_data.csv')\n",
    "print('Original data:')\n",
    "print(df)"
   ]
  },
  {
   "attachments": {},
   "cell_type": "markdown",
   "metadata": {},
   "source": [
    "## Clean data"
   ]
  },
  {
   "cell_type": "code",
   "execution_count": 6,
   "metadata": {},
   "outputs": [
    {
     "name": "stdout",
     "output_type": "stream",
     "text": [
      "Clean data:\n",
      "            x0         x1     CarMake DayOfWeek       x36       Amount   \n",
      "0     0.196063   3.683995       Tesla       Thu -4.664154     $124.72   \\\n",
      "1    23.155197  -9.226725      Toyota       Thu  5.220242   $1,273.04    \n",
      "2   -13.969618  -0.343978         BMW       Wed -0.061424  ($1,651.19)   \n",
      "3    49.722481  -1.500789      Toyota       Wed  1.908461     $896.05    \n",
      "4   -13.494403   7.445215       Honda       Wed  0.074133  ($1,710.27)   \n",
      "..         ...        ...         ...       ...       ...          ...   \n",
      "994  18.373405  -7.902737  Volkswagon       Wed -3.651558  ($1,520.19)   \n",
      "995  55.762861 -11.687225         BMW       Thu  3.204393     $687.44    \n",
      "996  -8.957643  11.970364       Honda       Wed  0.309493     $419.60    \n",
      "997   5.887040   5.370001  Volkswagon       Thu -3.700755  ($1,214.32)   \n",
      "998   6.778203  -6.325029  Volkswagon       Wed -3.745862     $980.70    \n",
      "\n",
      "    Percent        x46 Month        x84 Continent       x94  \n",
      "0    -0.01%  14.360555   Jun -11.072770      Asia  0.023357  \n",
      "1    -0.01%   0.328324   Jul   4.601376      Asia  1.349389  \n",
      "2     0.00%   3.824882   Aug  17.351746      Asia  2.149993  \n",
      "3     0.01%  -6.201024   Aug   6.084073      Asia -3.052037  \n",
      "4     0.01% -12.547338   May  10.035783      Asia -0.100660  \n",
      "..      ...        ...   ...        ...       ...       ...  \n",
      "994   0.00%  -4.009639   Oct   8.519576      Asia -0.790982  \n",
      "995  -0.02% -13.827186   Jul   4.745582      Asia  2.529016  \n",
      "996   0.00%   2.905907   May  -0.643147      Asia  0.600268  \n",
      "997  -0.01%   3.089698   Jul  -5.489663    Euorpe  1.017123  \n",
      "998  -0.01%   8.173062   Jun  12.089001   America -0.290048  \n",
      "\n",
      "[999 rows x 12 columns]\n"
     ]
    }
   ],
   "source": [
    "# Rename columns\n",
    "df.columns = ['x0', 'x1', 'CarMake', 'DayOfWeek', 'x36', 'Amount', 'Percent', 'x46', 'Month', 'x84', 'Continent', 'x94']\n",
    "\n",
    "# Capitalize the first let of each item in column\n",
    "df['DayOfWeek'] = df['DayOfWeek'].str.capitalize()\n",
    "df['Continent'] = df['Continent'].str.capitalize()\n",
    "\n",
    "# Capitalize the first let of each item in column and all letters if the value is BMW\n",
    "df['CarMake'] = df['CarMake'] \\\n",
    "  .apply(lambda x: x.capitalize()\n",
    "    if x.lower() != 'bmw'\n",
    "    else x.upper())\n",
    "\n",
    "# Abbreviate all the days and months\n",
    "df['DayOfWeek'] = df['DayOfWeek'].str.slice(stop=3)\n",
    "df['Month'] = df['Month'].str.slice(stop=3)\n",
    "\n",
    "print('Clean data:')\n",
    "print(df)\n",
    "\n",
    "# Output data to csv\n",
    "df.to_csv('Week/3/assignment_3_data_cleaned.csv')"
   ]
  },
  {
   "attachments": {},
   "cell_type": "markdown",
   "metadata": {},
   "source": [
    "### References\n",
    "\n",
    "- References\n",
    "  - [The pandas DataFrame: Make Working With Data Delightful](https://realpython.com/pandas-dataframe/)\n",
    "  - [Renaming columns in a Pandas DataFrame](https://towardsdatascience.com/renaming-columns-in-a-pandas-dataframe-1d909360ddc6)"
   ]
  }
 ],
 "metadata": {
  "kernelspec": {
   "display_name": "Python 3 (ipykernel)",
   "language": "python",
   "name": "python3"
  },
  "language_info": {
   "codemirror_mode": {
    "name": "ipython",
    "version": 3
   },
   "file_extension": ".py",
   "mimetype": "text/x-python",
   "name": "python",
   "nbconvert_exporter": "python",
   "pygments_lexer": "ipython3",
   "version": "3.11.3"
  },
  "orig_nbformat": 4
 },
 "nbformat": 4,
 "nbformat_minor": 2
}
