{
 "cells": [
  {
   "attachments": {},
   "cell_type": "markdown",
   "metadata": {},
   "source": [
    "# Regression model to predict total cyclists\n",
    "\n",
    "Regression model to predict total cyclists"
   ]
  },
  {
   "attachments": {},
   "cell_type": "markdown",
   "metadata": {},
   "source": [
    "## Imports"
   ]
  },
  {
   "cell_type": "code",
   "execution_count": 36,
   "metadata": {
    "tags": [],
    "vscode": {
     "languageId": "python"
    }
   },
   "outputs": [],
   "source": [
    "import numpy as np\n",
    "import pandas as pd\n",
    "import seaborn as sns"
   ]
  },
  {
   "attachments": {},
   "cell_type": "markdown",
   "metadata": {},
   "source": [
    "## Load the data"
   ]
  },
  {
   "cell_type": "code",
   "execution_count": 89,
   "metadata": {
    "tags": [],
    "vscode": {
     "languageId": "python"
    }
   },
   "outputs": [
    {
     "name": "stdout",
     "output_type": "stream",
     "text": [
      "<class 'pandas.core.frame.DataFrame'>\n",
      "RangeIndex: 30 entries, 0 to 29\n",
      "Data columns (total 11 columns):\n",
      " #   Column               Non-Null Count  Dtype  \n",
      "---  ------               --------------  -----  \n",
      " 0   date                 30 non-null     object \n",
      " 1   day                  30 non-null     object \n",
      " 2   temp_high            30 non-null     float64\n",
      " 3   temp_low             30 non-null     float64\n",
      " 4   rain_amt             30 non-null     object \n",
      " 5   brooklyn_bridge      30 non-null     int64  \n",
      " 6   manhattan_bridge     30 non-null     int64  \n",
      " 7   williamsburg_bridge  30 non-null     int64  \n",
      " 8   queensboro_bridge    30 non-null     int64  \n",
      " 9   total_cyclists       30 non-null     int64  \n",
      " 10  Unnamed: 10          1 non-null      object \n",
      "dtypes: float64(2), int64(5), object(4)\n",
      "memory usage: 2.7+ KB\n"
     ]
    }
   ],
   "source": [
    "FILE_NAME = '04_2017_bike_data.csv'\n",
    "bike = pd.read_csv(FILE_NAME, index_col=None, thousands=',')\n",
    "bike.info()"
   ]
  },
  {
   "attachments": {},
   "cell_type": "markdown",
   "metadata": {},
   "source": [
    "## Look at Sample Data"
   ]
  },
  {
   "cell_type": "code",
   "execution_count": 72,
   "metadata": {
    "tags": [],
    "vscode": {
     "languageId": "python"
    }
   },
   "outputs": [
    {
     "data": {
      "text/html": [
       "<div>\n",
       "<style scoped>\n",
       "    .dataframe tbody tr th:only-of-type {\n",
       "        vertical-align: middle;\n",
       "    }\n",
       "\n",
       "    .dataframe tbody tr th {\n",
       "        vertical-align: top;\n",
       "    }\n",
       "\n",
       "    .dataframe thead th {\n",
       "        text-align: right;\n",
       "    }\n",
       "</style>\n",
       "<table border=\"1\" class=\"dataframe\">\n",
       "  <thead>\n",
       "    <tr style=\"text-align: right;\">\n",
       "      <th></th>\n",
       "      <th>date</th>\n",
       "      <th>day</th>\n",
       "      <th>temp_high</th>\n",
       "      <th>temp_low</th>\n",
       "      <th>rain_amt</th>\n",
       "      <th>brooklyn_bridge</th>\n",
       "      <th>manhattan_bridge</th>\n",
       "      <th>williamsburg_bridge</th>\n",
       "      <th>queensboro_bridge</th>\n",
       "      <th>total_cyclists</th>\n",
       "      <th>Unnamed: 10</th>\n",
       "    </tr>\n",
       "  </thead>\n",
       "  <tbody>\n",
       "    <tr>\n",
       "      <th>0</th>\n",
       "      <td>1-Apr</td>\n",
       "      <td>Saturday</td>\n",
       "      <td>46.0</td>\n",
       "      <td>37.0</td>\n",
       "      <td>0</td>\n",
       "      <td>606</td>\n",
       "      <td>1446</td>\n",
       "      <td>1915</td>\n",
       "      <td>1430</td>\n",
       "      <td>5397</td>\n",
       "      <td>NaN</td>\n",
       "    </tr>\n",
       "    <tr>\n",
       "      <th>1</th>\n",
       "      <td>2-Apr</td>\n",
       "      <td>Sunday</td>\n",
       "      <td>62.1</td>\n",
       "      <td>41.0</td>\n",
       "      <td>0</td>\n",
       "      <td>2021</td>\n",
       "      <td>3943</td>\n",
       "      <td>4207</td>\n",
       "      <td>2862</td>\n",
       "      <td>13033</td>\n",
       "      <td>NaN</td>\n",
       "    </tr>\n",
       "    <tr>\n",
       "      <th>2</th>\n",
       "      <td>3-Apr</td>\n",
       "      <td>Monday</td>\n",
       "      <td>63.0</td>\n",
       "      <td>50.0</td>\n",
       "      <td>0.03</td>\n",
       "      <td>2470</td>\n",
       "      <td>4988</td>\n",
       "      <td>5178</td>\n",
       "      <td>3689</td>\n",
       "      <td>16325</td>\n",
       "      <td>NaN</td>\n",
       "    </tr>\n",
       "    <tr>\n",
       "      <th>3</th>\n",
       "      <td>4-Apr</td>\n",
       "      <td>Tuesday</td>\n",
       "      <td>51.1</td>\n",
       "      <td>46.0</td>\n",
       "      <td>1.18</td>\n",
       "      <td>723</td>\n",
       "      <td>1913</td>\n",
       "      <td>2279</td>\n",
       "      <td>1666</td>\n",
       "      <td>6581</td>\n",
       "      <td>NaN</td>\n",
       "    </tr>\n",
       "    <tr>\n",
       "      <th>4</th>\n",
       "      <td>5-Apr</td>\n",
       "      <td>Wednesday</td>\n",
       "      <td>63.0</td>\n",
       "      <td>46.0</td>\n",
       "      <td>0</td>\n",
       "      <td>2807</td>\n",
       "      <td>5276</td>\n",
       "      <td>5711</td>\n",
       "      <td>4197</td>\n",
       "      <td>17991</td>\n",
       "      <td>NaN</td>\n",
       "    </tr>\n",
       "  </tbody>\n",
       "</table>\n",
       "</div>"
      ],
      "text/plain": [
       "    date        day  temp_high  temp_low rain_amt  brooklyn_bridge   \n",
       "0  1-Apr   Saturday       46.0      37.0        0              606  \\\n",
       "1  2-Apr     Sunday       62.1      41.0        0             2021   \n",
       "2  3-Apr     Monday       63.0      50.0     0.03             2470   \n",
       "3  4-Apr    Tuesday       51.1      46.0     1.18              723   \n",
       "4  5-Apr  Wednesday       63.0      46.0        0             2807   \n",
       "\n",
       "   manhattan_bridge  williamsburg_bridge  queensboro_bridge  total_cyclists   \n",
       "0              1446                 1915               1430            5397  \\\n",
       "1              3943                 4207               2862           13033   \n",
       "2              4988                 5178               3689           16325   \n",
       "3              1913                 2279               1666            6581   \n",
       "4              5276                 5711               4197           17991   \n",
       "\n",
       "  Unnamed: 10  \n",
       "0         NaN  \n",
       "1         NaN  \n",
       "2         NaN  \n",
       "3         NaN  \n",
       "4         NaN  "
      ]
     },
     "execution_count": 72,
     "metadata": {},
     "output_type": "execute_result"
    }
   ],
   "source": [
    "bike.head()"
   ]
  },
  {
   "attachments": {},
   "cell_type": "markdown",
   "metadata": {},
   "source": [
    "## Descriptive Analytics"
   ]
  },
  {
   "cell_type": "code",
   "execution_count": 73,
   "metadata": {
    "tags": [],
    "vscode": {
     "languageId": "python"
    }
   },
   "outputs": [
    {
     "data": {
      "text/html": [
       "<div>\n",
       "<style scoped>\n",
       "    .dataframe tbody tr th:only-of-type {\n",
       "        vertical-align: middle;\n",
       "    }\n",
       "\n",
       "    .dataframe tbody tr th {\n",
       "        vertical-align: top;\n",
       "    }\n",
       "\n",
       "    .dataframe thead th {\n",
       "        text-align: right;\n",
       "    }\n",
       "</style>\n",
       "<table border=\"1\" class=\"dataframe\">\n",
       "  <thead>\n",
       "    <tr style=\"text-align: right;\">\n",
       "      <th></th>\n",
       "      <th>temp_high</th>\n",
       "      <th>temp_low</th>\n",
       "      <th>brooklyn_bridge</th>\n",
       "      <th>manhattan_bridge</th>\n",
       "      <th>williamsburg_bridge</th>\n",
       "      <th>queensboro_bridge</th>\n",
       "      <th>total_cyclists</th>\n",
       "    </tr>\n",
       "  </thead>\n",
       "  <tbody>\n",
       "    <tr>\n",
       "      <th>count</th>\n",
       "      <td>30.000000</td>\n",
       "      <td>30.000000</td>\n",
       "      <td>30.000000</td>\n",
       "      <td>30.000000</td>\n",
       "      <td>30.000000</td>\n",
       "      <td>30.000000</td>\n",
       "      <td>30.000000</td>\n",
       "    </tr>\n",
       "    <tr>\n",
       "      <th>mean</th>\n",
       "      <td>63.776667</td>\n",
       "      <td>50.686667</td>\n",
       "      <td>2250.100000</td>\n",
       "      <td>4353.900000</td>\n",
       "      <td>4942.266667</td>\n",
       "      <td>3482.800000</td>\n",
       "      <td>15029.066667</td>\n",
       "    </tr>\n",
       "    <tr>\n",
       "      <th>std</th>\n",
       "      <td>10.646796</td>\n",
       "      <td>7.243391</td>\n",
       "      <td>980.301198</td>\n",
       "      <td>1692.501767</td>\n",
       "      <td>1733.685449</td>\n",
       "      <td>1146.582971</td>\n",
       "      <td>5517.675272</td>\n",
       "    </tr>\n",
       "    <tr>\n",
       "      <th>min</th>\n",
       "      <td>46.000000</td>\n",
       "      <td>37.000000</td>\n",
       "      <td>461.000000</td>\n",
       "      <td>1324.000000</td>\n",
       "      <td>1739.000000</td>\n",
       "      <td>1372.000000</td>\n",
       "      <td>4896.000000</td>\n",
       "    </tr>\n",
       "    <tr>\n",
       "      <th>25%</th>\n",
       "      <td>55.900000</td>\n",
       "      <td>46.000000</td>\n",
       "      <td>1461.250000</td>\n",
       "      <td>3147.250000</td>\n",
       "      <td>3776.000000</td>\n",
       "      <td>2709.500000</td>\n",
       "      <td>11088.000000</td>\n",
       "    </tr>\n",
       "    <tr>\n",
       "      <th>50%</th>\n",
       "      <td>64.000000</td>\n",
       "      <td>50.000000</td>\n",
       "      <td>2422.500000</td>\n",
       "      <td>4608.500000</td>\n",
       "      <td>5141.500000</td>\n",
       "      <td>3560.500000</td>\n",
       "      <td>15783.500000</td>\n",
       "    </tr>\n",
       "    <tr>\n",
       "      <th>75%</th>\n",
       "      <td>67.500000</td>\n",
       "      <td>54.750000</td>\n",
       "      <td>2954.750000</td>\n",
       "      <td>5545.250000</td>\n",
       "      <td>6040.250000</td>\n",
       "      <td>4263.000000</td>\n",
       "      <td>18927.500000</td>\n",
       "    </tr>\n",
       "    <tr>\n",
       "      <th>max</th>\n",
       "      <td>84.900000</td>\n",
       "      <td>64.000000</td>\n",
       "      <td>3887.000000</td>\n",
       "      <td>7247.000000</td>\n",
       "      <td>8079.000000</td>\n",
       "      <td>5501.000000</td>\n",
       "      <td>24714.000000</td>\n",
       "    </tr>\n",
       "  </tbody>\n",
       "</table>\n",
       "</div>"
      ],
      "text/plain": [
       "       temp_high   temp_low  brooklyn_bridge  manhattan_bridge   \n",
       "count  30.000000  30.000000        30.000000         30.000000  \\\n",
       "mean   63.776667  50.686667      2250.100000       4353.900000   \n",
       "std    10.646796   7.243391       980.301198       1692.501767   \n",
       "min    46.000000  37.000000       461.000000       1324.000000   \n",
       "25%    55.900000  46.000000      1461.250000       3147.250000   \n",
       "50%    64.000000  50.000000      2422.500000       4608.500000   \n",
       "75%    67.500000  54.750000      2954.750000       5545.250000   \n",
       "max    84.900000  64.000000      3887.000000       7247.000000   \n",
       "\n",
       "       williamsburg_bridge  queensboro_bridge  total_cyclists  \n",
       "count            30.000000          30.000000       30.000000  \n",
       "mean           4942.266667        3482.800000    15029.066667  \n",
       "std            1733.685449        1146.582971     5517.675272  \n",
       "min            1739.000000        1372.000000     4896.000000  \n",
       "25%            3776.000000        2709.500000    11088.000000  \n",
       "50%            5141.500000        3560.500000    15783.500000  \n",
       "75%            6040.250000        4263.000000    18927.500000  \n",
       "max            8079.000000        5501.000000    24714.000000  "
      ]
     },
     "execution_count": 73,
     "metadata": {},
     "output_type": "execute_result"
    }
   ],
   "source": [
    "bike.describe()"
   ]
  },
  {
   "attachments": {},
   "cell_type": "markdown",
   "metadata": {},
   "source": [
    "## Convert string to numerical data"
   ]
  },
  {
   "cell_type": "code",
   "execution_count": 90,
   "metadata": {
    "tags": [],
    "vscode": {
     "languageId": "python"
    }
   },
   "outputs": [
    {
     "data": {
      "text/html": [
       "<div>\n",
       "<style scoped>\n",
       "    .dataframe tbody tr th:only-of-type {\n",
       "        vertical-align: middle;\n",
       "    }\n",
       "\n",
       "    .dataframe tbody tr th {\n",
       "        vertical-align: top;\n",
       "    }\n",
       "\n",
       "    .dataframe thead th {\n",
       "        text-align: right;\n",
       "    }\n",
       "</style>\n",
       "<table border=\"1\" class=\"dataframe\">\n",
       "  <thead>\n",
       "    <tr style=\"text-align: right;\">\n",
       "      <th></th>\n",
       "      <th>temp_high</th>\n",
       "      <th>temp_low</th>\n",
       "      <th>rain_amt</th>\n",
       "      <th>brooklyn_bridge</th>\n",
       "      <th>manhattan_bridge</th>\n",
       "      <th>williamsburg_bridge</th>\n",
       "      <th>queensboro_bridge</th>\n",
       "      <th>total_cyclists</th>\n",
       "    </tr>\n",
       "  </thead>\n",
       "  <tbody>\n",
       "    <tr>\n",
       "      <th>count</th>\n",
       "      <td>30.000000</td>\n",
       "      <td>30.000000</td>\n",
       "      <td>30.000000</td>\n",
       "      <td>30.000000</td>\n",
       "      <td>30.000000</td>\n",
       "      <td>30.000000</td>\n",
       "      <td>30.000000</td>\n",
       "      <td>30.000000</td>\n",
       "    </tr>\n",
       "    <tr>\n",
       "      <th>mean</th>\n",
       "      <td>63.776667</td>\n",
       "      <td>50.686667</td>\n",
       "      <td>0.128167</td>\n",
       "      <td>2250.100000</td>\n",
       "      <td>4353.900000</td>\n",
       "      <td>4942.266667</td>\n",
       "      <td>3482.800000</td>\n",
       "      <td>15029.066667</td>\n",
       "    </tr>\n",
       "    <tr>\n",
       "      <th>std</th>\n",
       "      <td>10.646796</td>\n",
       "      <td>7.243391</td>\n",
       "      <td>0.293974</td>\n",
       "      <td>980.301198</td>\n",
       "      <td>1692.501767</td>\n",
       "      <td>1733.685449</td>\n",
       "      <td>1146.582971</td>\n",
       "      <td>5517.675272</td>\n",
       "    </tr>\n",
       "    <tr>\n",
       "      <th>min</th>\n",
       "      <td>46.000000</td>\n",
       "      <td>37.000000</td>\n",
       "      <td>0.000000</td>\n",
       "      <td>461.000000</td>\n",
       "      <td>1324.000000</td>\n",
       "      <td>1739.000000</td>\n",
       "      <td>1372.000000</td>\n",
       "      <td>4896.000000</td>\n",
       "    </tr>\n",
       "    <tr>\n",
       "      <th>25%</th>\n",
       "      <td>55.900000</td>\n",
       "      <td>46.000000</td>\n",
       "      <td>0.000000</td>\n",
       "      <td>1461.250000</td>\n",
       "      <td>3147.250000</td>\n",
       "      <td>3776.000000</td>\n",
       "      <td>2709.500000</td>\n",
       "      <td>11088.000000</td>\n",
       "    </tr>\n",
       "    <tr>\n",
       "      <th>50%</th>\n",
       "      <td>64.000000</td>\n",
       "      <td>50.000000</td>\n",
       "      <td>0.000500</td>\n",
       "      <td>2422.500000</td>\n",
       "      <td>4608.500000</td>\n",
       "      <td>5141.500000</td>\n",
       "      <td>3560.500000</td>\n",
       "      <td>15783.500000</td>\n",
       "    </tr>\n",
       "    <tr>\n",
       "      <th>75%</th>\n",
       "      <td>67.500000</td>\n",
       "      <td>54.750000</td>\n",
       "      <td>0.052500</td>\n",
       "      <td>2954.750000</td>\n",
       "      <td>5545.250000</td>\n",
       "      <td>6040.250000</td>\n",
       "      <td>4263.000000</td>\n",
       "      <td>18927.500000</td>\n",
       "    </tr>\n",
       "    <tr>\n",
       "      <th>max</th>\n",
       "      <td>84.900000</td>\n",
       "      <td>64.000000</td>\n",
       "      <td>1.180000</td>\n",
       "      <td>3887.000000</td>\n",
       "      <td>7247.000000</td>\n",
       "      <td>8079.000000</td>\n",
       "      <td>5501.000000</td>\n",
       "      <td>24714.000000</td>\n",
       "    </tr>\n",
       "  </tbody>\n",
       "</table>\n",
       "</div>"
      ],
      "text/plain": [
       "       temp_high   temp_low   rain_amt  brooklyn_bridge  manhattan_bridge   \n",
       "count  30.000000  30.000000  30.000000        30.000000         30.000000  \\\n",
       "mean   63.776667  50.686667   0.128167      2250.100000       4353.900000   \n",
       "std    10.646796   7.243391   0.293974       980.301198       1692.501767   \n",
       "min    46.000000  37.000000   0.000000       461.000000       1324.000000   \n",
       "25%    55.900000  46.000000   0.000000      1461.250000       3147.250000   \n",
       "50%    64.000000  50.000000   0.000500      2422.500000       4608.500000   \n",
       "75%    67.500000  54.750000   0.052500      2954.750000       5545.250000   \n",
       "max    84.900000  64.000000   1.180000      3887.000000       7247.000000   \n",
       "\n",
       "       williamsburg_bridge  queensboro_bridge  total_cyclists  \n",
       "count            30.000000          30.000000       30.000000  \n",
       "mean           4942.266667        3482.800000    15029.066667  \n",
       "std            1733.685449        1146.582971     5517.675272  \n",
       "min            1739.000000        1372.000000     4896.000000  \n",
       "25%            3776.000000        2709.500000    11088.000000  \n",
       "50%            5141.500000        3560.500000    15783.500000  \n",
       "75%            6040.250000        4263.000000    18927.500000  \n",
       "max            8079.000000        5501.000000    24714.000000  "
      ]
     },
     "execution_count": 90,
     "metadata": {},
     "output_type": "execute_result"
    }
   ],
   "source": [
    "# 'T' is for trace amount of rain\n",
    "bike['rain_amt'] = bike['rain_amt'] \\\n",
    ".replace('0', 0.0) \\\n",
    ".replace('T', 0.001) \\\n",
    ".replace(',', '', regex=True).astype(float)\n",
    "\n",
    "bike.describe()"
   ]
  },
  {
   "attachments": {},
   "cell_type": "markdown",
   "metadata": {},
   "source": [
    "## Convert date to actual date time"
   ]
  },
  {
   "cell_type": "code",
   "execution_count": 91,
   "metadata": {
    "tags": [],
    "vscode": {
     "languageId": "python"
    }
   },
   "outputs": [
    {
     "name": "stdout",
     "output_type": "stream",
     "text": [
      "<class 'pandas.core.frame.DataFrame'>\n",
      "RangeIndex: 30 entries, 0 to 29\n",
      "Data columns (total 11 columns):\n",
      " #   Column               Non-Null Count  Dtype         \n",
      "---  ------               --------------  -----         \n",
      " 0   date                 30 non-null     datetime64[ns]\n",
      " 1   day                  30 non-null     object        \n",
      " 2   temp_high            30 non-null     float64       \n",
      " 3   temp_low             30 non-null     float64       \n",
      " 4   rain_amt             30 non-null     float64       \n",
      " 5   brooklyn_bridge      30 non-null     int64         \n",
      " 6   manhattan_bridge     30 non-null     int64         \n",
      " 7   williamsburg_bridge  30 non-null     int64         \n",
      " 8   queensboro_bridge    30 non-null     int64         \n",
      " 9   total_cyclists       30 non-null     int64         \n",
      " 10  Unnamed: 10          1 non-null      object        \n",
      "dtypes: datetime64[ns](1), float64(3), int64(5), object(2)\n",
      "memory usage: 2.7+ KB\n"
     ]
    }
   ],
   "source": [
    "from datetime import datetime\n",
    "\n",
    "current_year = datetime.now().year\n",
    "\n",
    "bike['date'] = pd.to_datetime(bike['date'] + ' ' + str(current_year))\n",
    "\n",
    "bike.info()"
   ]
  },
  {
   "attachments": {},
   "cell_type": "markdown",
   "metadata": {},
   "source": [
    "## Categorical Data"
   ]
  },
  {
   "cell_type": "code",
   "execution_count": 76,
   "metadata": {
    "tags": [],
    "vscode": {
     "languageId": "python"
    }
   },
   "outputs": [
    {
     "data": {
      "text/plain": [
       "<seaborn.axisgrid.FacetGrid at 0x7f931aff2a90>"
      ]
     },
     "execution_count": 76,
     "metadata": {},
     "output_type": "execute_result"
    },
    {
     "data": {
      "image/png": "[encoded data removed]",
      "text/plain": [
       "<Figure size 500x500 with 1 Axes>"
      ]
     },
     "metadata": {},
     "output_type": "display_data"
    }
   ],
   "source": [
    "import category_encoders as ce\n",
    "\n",
    "sns.set_theme(style=\"ticks\", color_codes=True)\n",
    "sns.catplot(x='day', kind='count', data=bike)"
   ]
  },
  {
   "cell_type": "code",
   "execution_count": 92,
   "metadata": {
    "tags": [],
    "vscode": {
     "languageId": "python"
    }
   },
   "outputs": [
    {
     "data": {
      "text/html": [
       "<div>\n",
       "<style scoped>\n",
       "    .dataframe tbody tr th:only-of-type {\n",
       "        vertical-align: middle;\n",
       "    }\n",
       "\n",
       "    .dataframe tbody tr th {\n",
       "        vertical-align: top;\n",
       "    }\n",
       "\n",
       "    .dataframe thead th {\n",
       "        text-align: right;\n",
       "    }\n",
       "</style>\n",
       "<table border=\"1\" class=\"dataframe\">\n",
       "  <thead>\n",
       "    <tr style=\"text-align: right;\">\n",
       "      <th></th>\n",
       "      <th>date</th>\n",
       "      <th>day</th>\n",
       "      <th>temp_high</th>\n",
       "      <th>temp_low</th>\n",
       "      <th>rain_amt</th>\n",
       "      <th>brooklyn_bridge</th>\n",
       "      <th>manhattan_bridge</th>\n",
       "      <th>williamsburg_bridge</th>\n",
       "      <th>queensboro_bridge</th>\n",
       "      <th>total_cyclists</th>\n",
       "      <th>Unnamed: 10</th>\n",
       "      <th>is_weekend</th>\n",
       "    </tr>\n",
       "  </thead>\n",
       "  <tbody>\n",
       "    <tr>\n",
       "      <th>0</th>\n",
       "      <td>2023-04-01</td>\n",
       "      <td>Saturday</td>\n",
       "      <td>46.0</td>\n",
       "      <td>37.0</td>\n",
       "      <td>0.00</td>\n",
       "      <td>606</td>\n",
       "      <td>1446</td>\n",
       "      <td>1915</td>\n",
       "      <td>1430</td>\n",
       "      <td>5397</td>\n",
       "      <td>NaN</td>\n",
       "      <td>1</td>\n",
       "    </tr>\n",
       "    <tr>\n",
       "      <th>1</th>\n",
       "      <td>2023-04-02</td>\n",
       "      <td>Sunday</td>\n",
       "      <td>62.1</td>\n",
       "      <td>41.0</td>\n",
       "      <td>0.00</td>\n",
       "      <td>2021</td>\n",
       "      <td>3943</td>\n",
       "      <td>4207</td>\n",
       "      <td>2862</td>\n",
       "      <td>13033</td>\n",
       "      <td>NaN</td>\n",
       "      <td>1</td>\n",
       "    </tr>\n",
       "    <tr>\n",
       "      <th>2</th>\n",
       "      <td>2023-04-03</td>\n",
       "      <td>Monday</td>\n",
       "      <td>63.0</td>\n",
       "      <td>50.0</td>\n",
       "      <td>0.03</td>\n",
       "      <td>2470</td>\n",
       "      <td>4988</td>\n",
       "      <td>5178</td>\n",
       "      <td>3689</td>\n",
       "      <td>16325</td>\n",
       "      <td>NaN</td>\n",
       "      <td>0</td>\n",
       "    </tr>\n",
       "    <tr>\n",
       "      <th>3</th>\n",
       "      <td>2023-04-04</td>\n",
       "      <td>Tuesday</td>\n",
       "      <td>51.1</td>\n",
       "      <td>46.0</td>\n",
       "      <td>1.18</td>\n",
       "      <td>723</td>\n",
       "      <td>1913</td>\n",
       "      <td>2279</td>\n",
       "      <td>1666</td>\n",
       "      <td>6581</td>\n",
       "      <td>NaN</td>\n",
       "      <td>0</td>\n",
       "    </tr>\n",
       "    <tr>\n",
       "      <th>4</th>\n",
       "      <td>2023-04-05</td>\n",
       "      <td>Wednesday</td>\n",
       "      <td>63.0</td>\n",
       "      <td>46.0</td>\n",
       "      <td>0.00</td>\n",
       "      <td>2807</td>\n",
       "      <td>5276</td>\n",
       "      <td>5711</td>\n",
       "      <td>4197</td>\n",
       "      <td>17991</td>\n",
       "      <td>NaN</td>\n",
       "      <td>0</td>\n",
       "    </tr>\n",
       "  </tbody>\n",
       "</table>\n",
       "</div>"
      ],
      "text/plain": [
       "        date        day  temp_high  temp_low  rain_amt  brooklyn_bridge   \n",
       "0 2023-04-01   Saturday       46.0      37.0      0.00              606  \\\n",
       "1 2023-04-02     Sunday       62.1      41.0      0.00             2021   \n",
       "2 2023-04-03     Monday       63.0      50.0      0.03             2470   \n",
       "3 2023-04-04    Tuesday       51.1      46.0      1.18              723   \n",
       "4 2023-04-05  Wednesday       63.0      46.0      0.00             2807   \n",
       "\n",
       "   manhattan_bridge  williamsburg_bridge  queensboro_bridge  total_cyclists   \n",
       "0              1446                 1915               1430            5397  \\\n",
       "1              3943                 4207               2862           13033   \n",
       "2              4988                 5178               3689           16325   \n",
       "3              1913                 2279               1666            6581   \n",
       "4              5276                 5711               4197           17991   \n",
       "\n",
       "  Unnamed: 10  is_weekend  \n",
       "0         NaN           1  \n",
       "1         NaN           1  \n",
       "2         NaN           0  \n",
       "3         NaN           0  \n",
       "4         NaN           0  "
      ]
     },
     "execution_count": 92,
     "metadata": {},
     "output_type": "execute_result"
    }
   ],
   "source": [
    "# function to check to see if day is a weekend\n",
    "is_weekend_func = lambda x: 1 if x in ['Saturday', 'Sunday'] else 0\n",
    "\n",
    "# use weekend checking function\n",
    "bike['is_weekend'] = bike['day'].apply(is_weekend_func)\n",
    "\n",
    "#encoder = ce.OrdinalEncoder(cols=['day'])\n",
    "#bike_encoded = encoder.fit_transform(bike)\n",
    "\n",
    "#bike['day_type'] = bike_encoded['day']\n",
    "##test.head()\n",
    "\n",
    "#one_hot_encoder = ce.OneHotEncoder(cols=['day'])\n",
    "#bike = one_hot_encoder.fit_transform(bike)\n",
    "\n",
    "bike.head()"
   ]
  },
  {
   "attachments": {},
   "cell_type": "markdown",
   "metadata": {},
   "source": [
    "## Descriptive statistics"
   ]
  },
  {
   "cell_type": "code",
   "execution_count": 94,
   "metadata": {
    "tags": [],
    "vscode": {
     "languageId": "python"
    }
   },
   "outputs": [
    {
     "data": {
      "text/plain": [
       "<seaborn.axisgrid.PairGrid at 0x7f9304c22810>"
      ]
     },
     "execution_count": 94,
     "metadata": {},
     "output_type": "execute_result"
    },
    {
     "data": {
      "image/png": "[encoded data removed]",
      "text/plain": [
       "<Figure size 1750x1750 with 56 Axes>"
      ]
     },
     "metadata": {},
     "output_type": "display_data"
    }
   ],
   "source": [
    "numerical_features = ['temp_high', 'temp_low', 'rain_amt', 'brooklyn_bridge', 'manhattan_bridge', 'williamsburg_bridge', 'queensboro_bridge'] #, 'is_weekend'] # 'day_1', 'day_2', 'day_3', 'day_4', 'day_5', 'day_6', 'day_7']\n",
    "\n",
    "sns.pairplot(bike[numerical_features]) #, plot_kws={\"s\": 2})"
   ]
  },
  {
   "cell_type": "code",
   "execution_count": 96,
   "metadata": {
    "tags": [],
    "vscode": {
     "languageId": "python"
    }
   },
   "outputs": [
    {
     "data": {
      "text/html": [
       "<div>\n",
       "<style scoped>\n",
       "    .dataframe tbody tr th:only-of-type {\n",
       "        vertical-align: middle;\n",
       "    }\n",
       "\n",
       "    .dataframe tbody tr th {\n",
       "        vertical-align: top;\n",
       "    }\n",
       "\n",
       "    .dataframe thead th {\n",
       "        text-align: right;\n",
       "    }\n",
       "</style>\n",
       "<table border=\"1\" class=\"dataframe\">\n",
       "  <thead>\n",
       "    <tr style=\"text-align: right;\">\n",
       "      <th></th>\n",
       "      <th>temp_high</th>\n",
       "      <th>temp_low</th>\n",
       "      <th>rain_amt</th>\n",
       "      <th>brooklyn_bridge</th>\n",
       "      <th>manhattan_bridge</th>\n",
       "      <th>williamsburg_bridge</th>\n",
       "      <th>queensboro_bridge</th>\n",
       "    </tr>\n",
       "  </thead>\n",
       "  <tbody>\n",
       "    <tr>\n",
       "      <th>temp_high</th>\n",
       "      <td>1.000000</td>\n",
       "      <td>0.828971</td>\n",
       "      <td>-0.426571</td>\n",
       "      <td>0.837217</td>\n",
       "      <td>0.772022</td>\n",
       "      <td>0.779099</td>\n",
       "      <td>0.746357</td>\n",
       "    </tr>\n",
       "    <tr>\n",
       "      <th>temp_low</th>\n",
       "      <td>0.828971</td>\n",
       "      <td>1.000000</td>\n",
       "      <td>-0.193001</td>\n",
       "      <td>0.633997</td>\n",
       "      <td>0.597605</td>\n",
       "      <td>0.613643</td>\n",
       "      <td>0.602206</td>\n",
       "    </tr>\n",
       "    <tr>\n",
       "      <th>rain_amt</th>\n",
       "      <td>-0.426571</td>\n",
       "      <td>-0.193001</td>\n",
       "      <td>1.000000</td>\n",
       "      <td>-0.636688</td>\n",
       "      <td>-0.619552</td>\n",
       "      <td>-0.632465</td>\n",
       "      <td>-0.630435</td>\n",
       "    </tr>\n",
       "    <tr>\n",
       "      <th>brooklyn_bridge</th>\n",
       "      <td>0.837217</td>\n",
       "      <td>0.633997</td>\n",
       "      <td>-0.636688</td>\n",
       "      <td>1.000000</td>\n",
       "      <td>0.975107</td>\n",
       "      <td>0.971787</td>\n",
       "      <td>0.959740</td>\n",
       "    </tr>\n",
       "    <tr>\n",
       "      <th>manhattan_bridge</th>\n",
       "      <td>0.772022</td>\n",
       "      <td>0.597605</td>\n",
       "      <td>-0.619552</td>\n",
       "      <td>0.975107</td>\n",
       "      <td>1.000000</td>\n",
       "      <td>0.992124</td>\n",
       "      <td>0.988148</td>\n",
       "    </tr>\n",
       "    <tr>\n",
       "      <th>williamsburg_bridge</th>\n",
       "      <td>0.779099</td>\n",
       "      <td>0.613643</td>\n",
       "      <td>-0.632465</td>\n",
       "      <td>0.971787</td>\n",
       "      <td>0.992124</td>\n",
       "      <td>1.000000</td>\n",
       "      <td>0.992293</td>\n",
       "    </tr>\n",
       "    <tr>\n",
       "      <th>queensboro_bridge</th>\n",
       "      <td>0.746357</td>\n",
       "      <td>0.602206</td>\n",
       "      <td>-0.630435</td>\n",
       "      <td>0.959740</td>\n",
       "      <td>0.988148</td>\n",
       "      <td>0.992293</td>\n",
       "      <td>1.000000</td>\n",
       "    </tr>\n",
       "  </tbody>\n",
       "</table>\n",
       "</div>"
      ],
      "text/plain": [
       "                     temp_high  temp_low  rain_amt  brooklyn_bridge   \n",
       "temp_high             1.000000  0.828971 -0.426571         0.837217  \\\n",
       "temp_low              0.828971  1.000000 -0.193001         0.633997   \n",
       "rain_amt             -0.426571 -0.193001  1.000000        -0.636688   \n",
       "brooklyn_bridge       0.837217  0.633997 -0.636688         1.000000   \n",
       "manhattan_bridge      0.772022  0.597605 -0.619552         0.975107   \n",
       "williamsburg_bridge   0.779099  0.613643 -0.632465         0.971787   \n",
       "queensboro_bridge     0.746357  0.602206 -0.630435         0.959740   \n",
       "\n",
       "                     manhattan_bridge  williamsburg_bridge  queensboro_bridge  \n",
       "temp_high                    0.772022             0.779099           0.746357  \n",
       "temp_low                     0.597605             0.613643           0.602206  \n",
       "rain_amt                    -0.619552            -0.632465          -0.630435  \n",
       "brooklyn_bridge              0.975107             0.971787           0.959740  \n",
       "manhattan_bridge             1.000000             0.992124           0.988148  \n",
       "williamsburg_bridge          0.992124             1.000000           0.992293  \n",
       "queensboro_bridge            0.988148             0.992293           1.000000  "
      ]
     },
     "execution_count": 96,
     "metadata": {},
     "output_type": "execute_result"
    }
   ],
   "source": [
    "bike[numerical_features].corr()"
   ]
  },
  {
   "attachments": {},
   "cell_type": "markdown",
   "metadata": {},
   "source": [
    "## Standardization - centering and scaling"
   ]
  },
  {
   "cell_type": "code",
   "execution_count": 111,
   "metadata": {
    "tags": [],
    "vscode": {
     "languageId": "python"
    }
   },
   "outputs": [
    {
     "data": {
      "text/html": [
       "<div>\n",
       "<style scoped>\n",
       "    .dataframe tbody tr th:only-of-type {\n",
       "        vertical-align: middle;\n",
       "    }\n",
       "\n",
       "    .dataframe tbody tr th {\n",
       "        vertical-align: top;\n",
       "    }\n",
       "\n",
       "    .dataframe thead th {\n",
       "        text-align: right;\n",
       "    }\n",
       "</style>\n",
       "<table border=\"1\" class=\"dataframe\">\n",
       "  <thead>\n",
       "    <tr style=\"text-align: right;\">\n",
       "      <th></th>\n",
       "      <th>temp_high</th>\n",
       "      <th>temp_low</th>\n",
       "      <th>rain_amt</th>\n",
       "    </tr>\n",
       "  </thead>\n",
       "  <tbody>\n",
       "    <tr>\n",
       "      <th>26</th>\n",
       "      <td>0.322301</td>\n",
       "      <td>1.110996</td>\n",
       "      <td>-0.413021</td>\n",
       "    </tr>\n",
       "    <tr>\n",
       "      <th>8</th>\n",
       "      <td>0.132091</td>\n",
       "      <td>-0.914843</td>\n",
       "      <td>-0.413021</td>\n",
       "    </tr>\n",
       "    <tr>\n",
       "      <th>27</th>\n",
       "      <td>1.739371</td>\n",
       "      <td>0.951823</td>\n",
       "      <td>-0.413021</td>\n",
       "    </tr>\n",
       "    <tr>\n",
       "      <th>12</th>\n",
       "      <td>-0.058120</td>\n",
       "      <td>-0.350502</td>\n",
       "      <td>-0.413021</td>\n",
       "    </tr>\n",
       "    <tr>\n",
       "      <th>21</th>\n",
       "      <td>-0.828473</td>\n",
       "      <td>0.098076</td>\n",
       "      <td>-0.019226</td>\n",
       "    </tr>\n",
       "  </tbody>\n",
       "</table>\n",
       "</div>"
      ],
      "text/plain": [
       "    temp_high  temp_low  rain_amt\n",
       "26   0.322301  1.110996 -0.413021\n",
       "8    0.132091 -0.914843 -0.413021\n",
       "27   1.739371  0.951823 -0.413021\n",
       "12  -0.058120 -0.350502 -0.413021\n",
       "21  -0.828473  0.098076 -0.019226"
      ]
     },
     "execution_count": 111,
     "metadata": {},
     "output_type": "execute_result"
    }
   ],
   "source": [
    "bike['total_cyclists_pred'] = bike['total_cyclists']\n",
    "\n",
    "numerical_features = ['temp_high', 'temp_low', 'rain_amt']\n",
    "\n",
    "# prepare features (X - input variables) and the target (y) variable\n",
    "X = bike[numerical_features]\n",
    "y = bike['total_cyclists_pred']\n",
    "\n",
    "from sklearn.model_selection import train_test_split\n",
    "\n",
    "# 90-10 split\n",
    "# split the data into training and testing sets\n",
    "X_train, X_test, y_train, y_test = train_test_split(X, y, test_size=0.1, random_state=123)\n",
    "\n",
    "from sklearn.preprocessing import StandardScaler\n",
    "\n",
    "scaler = StandardScaler()\n",
    "\n",
    "scaler.fit(X_train[numerical_features])\n",
    "\n",
    "X_train.loc[:, numerical_features] = scaler.transform(X_train[numerical_features])\n",
    "\n",
    "#bike.head()\n",
    "#X.head()\n",
    "X_train[numerical_features].head()"
   ]
  },
  {
   "cell_type": "code",
   "execution_count": 112,
   "metadata": {
    "tags": [],
    "vscode": {
     "languageId": "python"
    }
   },
   "outputs": [
    {
     "data": {
      "text/html": [
       "<div>\n",
       "<style scoped>\n",
       "    .dataframe tbody tr th:only-of-type {\n",
       "        vertical-align: middle;\n",
       "    }\n",
       "\n",
       "    .dataframe tbody tr th {\n",
       "        vertical-align: top;\n",
       "    }\n",
       "\n",
       "    .dataframe thead th {\n",
       "        text-align: right;\n",
       "    }\n",
       "</style>\n",
       "<table border=\"1\" class=\"dataframe\">\n",
       "  <thead>\n",
       "    <tr style=\"text-align: right;\">\n",
       "      <th></th>\n",
       "      <th>temp_high</th>\n",
       "      <th>temp_low</th>\n",
       "      <th>rain_amt</th>\n",
       "    </tr>\n",
       "  </thead>\n",
       "  <tbody>\n",
       "    <tr>\n",
       "      <th>count</th>\n",
       "      <td>27.0000</td>\n",
       "      <td>27.0000</td>\n",
       "      <td>27.0000</td>\n",
       "    </tr>\n",
       "    <tr>\n",
       "      <th>mean</th>\n",
       "      <td>-0.0000</td>\n",
       "      <td>-0.0000</td>\n",
       "      <td>0.0000</td>\n",
       "    </tr>\n",
       "    <tr>\n",
       "      <th>std</th>\n",
       "      <td>1.0190</td>\n",
       "      <td>1.0190</td>\n",
       "      <td>1.0190</td>\n",
       "    </tr>\n",
       "    <tr>\n",
       "      <th>min</th>\n",
       "      <td>-1.7700</td>\n",
       "      <td>-2.0725</td>\n",
       "      <td>-0.4130</td>\n",
       "    </tr>\n",
       "    <tr>\n",
       "      <th>25%</th>\n",
       "      <td>-0.6811</td>\n",
       "      <td>-0.7050</td>\n",
       "      <td>-0.4130</td>\n",
       "    </tr>\n",
       "    <tr>\n",
       "      <th>50%</th>\n",
       "      <td>0.0275</td>\n",
       "      <td>-0.1913</td>\n",
       "      <td>-0.4094</td>\n",
       "    </tr>\n",
       "    <tr>\n",
       "      <th>75%</th>\n",
       "      <td>0.6029</td>\n",
       "      <td>0.7420</td>\n",
       "      <td>-0.2519</td>\n",
       "    </tr>\n",
       "    <tr>\n",
       "      <th>max</th>\n",
       "      <td>1.9296</td>\n",
       "      <td>1.8345</td>\n",
       "      <td>3.8113</td>\n",
       "    </tr>\n",
       "  </tbody>\n",
       "</table>\n",
       "</div>"
      ],
      "text/plain": [
       "       temp_high  temp_low  rain_amt\n",
       "count    27.0000   27.0000   27.0000\n",
       "mean     -0.0000   -0.0000    0.0000\n",
       "std       1.0190    1.0190    1.0190\n",
       "min      -1.7700   -2.0725   -0.4130\n",
       "25%      -0.6811   -0.7050   -0.4130\n",
       "50%       0.0275   -0.1913   -0.4094\n",
       "75%       0.6029    0.7420   -0.2519\n",
       "max       1.9296    1.8345    3.8113"
      ]
     },
     "execution_count": 112,
     "metadata": {},
     "output_type": "execute_result"
    }
   ],
   "source": [
    "X_train[numerical_features].describe().round(4)"
   ]
  },
  {
   "attachments": {},
   "cell_type": "markdown",
   "metadata": {},
   "source": [
    "## Multiple Linear Regression (MLR)"
   ]
  },
  {
   "cell_type": "code",
   "execution_count": 115,
   "metadata": {
    "tags": [],
    "vscode": {
     "languageId": "python"
    }
   },
   "outputs": [
    {
     "data": {
      "text/plain": [
       "temp_high    3013.27\n",
       "temp_low      326.02\n",
       "rain_amt    -1990.62\n",
       "dtype: float64"
      ]
     },
     "execution_count": 115,
     "metadata": {},
     "output_type": "execute_result"
    }
   ],
   "source": [
    "from sklearn.linear_model import LinearRegression\n",
    "\n",
    "ml_reg = LinearRegression()\n",
    "\n",
    "ml_reg.fit(X_train, y_train)\n",
    "\n",
    "y_pred_ml_reg = ml_reg.predict(X_train)\n",
    "\n",
    "pd.Series(ml_reg.coef_, index=X_train.columns).sort_values(ascending=False).round(2)"
   ]
  },
  {
   "cell_type": "code",
   "execution_count": 116,
   "metadata": {
    "tags": [],
    "vscode": {
     "languageId": "python"
    }
   },
   "outputs": [],
   "source": [
    "# ml_reg.fit(X_train.drop('rain_amt', axis=1), y_train)\n",
    "\n",
    "# pd.Series(ml_reg.coef_, index=X_train.drop('rain_amt', axis=1).columns).sort_values(ascending=False).round(2)"
   ]
  },
  {
   "attachments": {},
   "cell_type": "markdown",
   "metadata": {},
   "source": [
    "## Mean squared error (MSE)"
   ]
  },
  {
   "cell_type": "code",
   "execution_count": 117,
   "metadata": {
    "tags": [],
    "vscode": {
     "languageId": "python"
    }
   },
   "outputs": [
    {
     "name": "stdout",
     "output_type": "stream",
     "text": [
      "8.59M\n"
     ]
    }
   ],
   "source": [
    "from sklearn.metrics import mean_squared_error\n",
    "\n",
    "mse_ml_reg = mean_squared_error(y_true=y_train, y_pred=y_pred_ml_reg)\n",
    "\n",
    "print('{:0.2f}M'.format(mse_ml_reg/1e6))"
   ]
  },
  {
   "cell_type": "code",
   "execution_count": 118,
   "metadata": {
    "tags": [],
    "vscode": {
     "languageId": "python"
    }
   },
   "outputs": [
    {
     "data": {
      "text/plain": [
       "28125064.677640602"
      ]
     },
     "execution_count": 118,
     "metadata": {},
     "output_type": "execute_result"
    }
   ],
   "source": [
    "# The above number should be lower than this number\n",
    "y_pred_null_model = np.full(y_train.shape, y_train.mean())\n",
    "mse_null_model = mean_squared_error(y_true=y_train, y_pred=y_pred_null_model)\n",
    "mse_null_model"
   ]
  }
 ],
 "metadata": {
  "kernelspec": {
   "display_name": "Python 3 (ipykernel)",
   "language": "python",
   "name": "python3"
  }
 },
 "nbformat": 4,
 "nbformat_minor": 4
}
