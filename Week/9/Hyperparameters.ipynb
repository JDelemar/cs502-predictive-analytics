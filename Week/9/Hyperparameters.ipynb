{
 "cells": [
  {
   "cell_type": "markdown",
   "id": "cfbb016e-5b09-4110-9ead-591cd4b99e8a",
   "metadata": {},
   "source": [
    "# Hyperparameters\n",
    "\n",
    "Hyperparameters\n",
    "\n",
    "## Import libraries"
   ]
  },
  {
   "cell_type": "code",
   "execution_count": 36,
   "id": "6e03c7f8-6ed0-4df0-ab2c-6986ce2f4e64",
   "metadata": {
    "tags": []
   },
   "outputs": [],
   "source": [
    "import numpy as np\n",
    "import pandas as pd\n",
    "import matplotlib.pyplot as plt\n",
    "import seaborn as sns\n",
    "import os\n",
    "from datetime import datetime\n",
    "from sklearn.preprocessing import StandardScaler\n",
    "from sklearn.ensemble import RandomForestRegressor\n",
    "from sklearn.model_selection import train_test_split, GridSearchCV\n",
    "from sklearn.metrics import mean_absolute_error, mean_squared_error\n",
    "\n",
    "%matplotlib inline"
   ]
  },
  {
   "cell_type": "markdown",
   "id": "cec50f54-b502-4b3d-bf12-4c25cb624372",
   "metadata": {},
   "source": [
    "## Prepare the dataset"
   ]
  },
  {
   "cell_type": "code",
   "execution_count": 37,
   "id": "92bd4cbd-3db6-4b4e-a5f9-d267bfc5fbb7",
   "metadata": {
    "tags": []
   },
   "outputs": [
    {
     "data": {
      "text/html": [
       "<div>\n",
       "<style scoped>\n",
       "    .dataframe tbody tr th:only-of-type {\n",
       "        vertical-align: middle;\n",
       "    }\n",
       "\n",
       "    .dataframe tbody tr th {\n",
       "        vertical-align: top;\n",
       "    }\n",
       "\n",
       "    .dataframe thead th {\n",
       "        text-align: right;\n",
       "    }\n",
       "</style>\n",
       "<table border=\"1\" class=\"dataframe\">\n",
       "  <thead>\n",
       "    <tr style=\"text-align: right;\">\n",
       "      <th></th>\n",
       "      <th>date</th>\n",
       "      <th>day</th>\n",
       "      <th>temp_high</th>\n",
       "      <th>temp_low</th>\n",
       "      <th>rain_amt</th>\n",
       "      <th>brooklyn_bridge</th>\n",
       "      <th>manhattan_bridge</th>\n",
       "      <th>williamsburg_bridge</th>\n",
       "      <th>queensboro_bridge</th>\n",
       "      <th>total_cyclists</th>\n",
       "      <th>Unnamed: 10</th>\n",
       "    </tr>\n",
       "  </thead>\n",
       "  <tbody>\n",
       "    <tr>\n",
       "      <th>0</th>\n",
       "      <td>2017-04-01</td>\n",
       "      <td>Saturday</td>\n",
       "      <td>46.0</td>\n",
       "      <td>37.0</td>\n",
       "      <td>0.00</td>\n",
       "      <td>606</td>\n",
       "      <td>1446</td>\n",
       "      <td>1915</td>\n",
       "      <td>1430</td>\n",
       "      <td>5397</td>\n",
       "      <td>NaN</td>\n",
       "    </tr>\n",
       "    <tr>\n",
       "      <th>1</th>\n",
       "      <td>2017-04-02</td>\n",
       "      <td>Sunday</td>\n",
       "      <td>62.1</td>\n",
       "      <td>41.0</td>\n",
       "      <td>0.00</td>\n",
       "      <td>2021</td>\n",
       "      <td>3943</td>\n",
       "      <td>4207</td>\n",
       "      <td>2862</td>\n",
       "      <td>13033</td>\n",
       "      <td>NaN</td>\n",
       "    </tr>\n",
       "    <tr>\n",
       "      <th>2</th>\n",
       "      <td>2017-04-03</td>\n",
       "      <td>Monday</td>\n",
       "      <td>63.0</td>\n",
       "      <td>50.0</td>\n",
       "      <td>0.03</td>\n",
       "      <td>2470</td>\n",
       "      <td>4988</td>\n",
       "      <td>5178</td>\n",
       "      <td>3689</td>\n",
       "      <td>16325</td>\n",
       "      <td>NaN</td>\n",
       "    </tr>\n",
       "    <tr>\n",
       "      <th>3</th>\n",
       "      <td>2017-04-04</td>\n",
       "      <td>Tuesday</td>\n",
       "      <td>51.1</td>\n",
       "      <td>46.0</td>\n",
       "      <td>1.18</td>\n",
       "      <td>723</td>\n",
       "      <td>1913</td>\n",
       "      <td>2279</td>\n",
       "      <td>1666</td>\n",
       "      <td>6581</td>\n",
       "      <td>NaN</td>\n",
       "    </tr>\n",
       "    <tr>\n",
       "      <th>4</th>\n",
       "      <td>2017-04-05</td>\n",
       "      <td>Wednesday</td>\n",
       "      <td>63.0</td>\n",
       "      <td>46.0</td>\n",
       "      <td>0.00</td>\n",
       "      <td>2807</td>\n",
       "      <td>5276</td>\n",
       "      <td>5711</td>\n",
       "      <td>4197</td>\n",
       "      <td>17991</td>\n",
       "      <td>NaN</td>\n",
       "    </tr>\n",
       "  </tbody>\n",
       "</table>\n",
       "</div>"
      ],
      "text/plain": [
       "        date        day  temp_high  temp_low  rain_amt  brooklyn_bridge   \n",
       "0 2017-04-01   Saturday       46.0      37.0      0.00              606  \\\n",
       "1 2017-04-02     Sunday       62.1      41.0      0.00             2021   \n",
       "2 2017-04-03     Monday       63.0      50.0      0.03             2470   \n",
       "3 2017-04-04    Tuesday       51.1      46.0      1.18              723   \n",
       "4 2017-04-05  Wednesday       63.0      46.0      0.00             2807   \n",
       "\n",
       "   manhattan_bridge  williamsburg_bridge  queensboro_bridge  total_cyclists   \n",
       "0              1446                 1915               1430            5397  \\\n",
       "1              3943                 4207               2862           13033   \n",
       "2              4988                 5178               3689           16325   \n",
       "3              1913                 2279               1666            6581   \n",
       "4              5276                 5711               4197           17991   \n",
       "\n",
       "  Unnamed: 10  \n",
       "0         NaN  \n",
       "1         NaN  \n",
       "2         NaN  \n",
       "3         NaN  \n",
       "4         NaN  "
      ]
     },
     "execution_count": 37,
     "metadata": {},
     "output_type": "execute_result"
    }
   ],
   "source": [
    "# Loading the dataset\n",
    "DATA_DIR = '../_data'\n",
    "FILE_NAME = '04_2017_bike_data.csv'\n",
    "data_path = os.path.join(DATA_DIR, FILE_NAME)\n",
    "bike = pd.read_csv(data_path, index_col=None, thousands=',')\n",
    "\n",
    "# 'T' is for trace amount of rain\n",
    "bike['rain_amt'] = bike['rain_amt'] \\\n",
    ".replace('0', 0.0) \\\n",
    ".replace('T', 0.001) \\\n",
    ".replace(',', '', regex=True).astype(float)\n",
    "\n",
    "# Convert date to actual date time\n",
    "bike['date'] = pd.to_datetime(bike['date'] + ' 2017')\n",
    "\n",
    "bike.head()"
   ]
  },
  {
   "cell_type": "markdown",
   "id": "b4fc0070-4b7b-46a4-9c51-17ec36b3a68b",
   "metadata": {},
   "source": [
    "## Split and standardize the dataset"
   ]
  },
  {
   "cell_type": "code",
   "execution_count": 38,
   "id": "4d30b105-97b8-4e98-8251-72f596f65dce",
   "metadata": {
    "tags": []
   },
   "outputs": [
    {
     "data": {
      "text/html": [
       "<div>\n",
       "<style scoped>\n",
       "    .dataframe tbody tr th:only-of-type {\n",
       "        vertical-align: middle;\n",
       "    }\n",
       "\n",
       "    .dataframe tbody tr th {\n",
       "        vertical-align: top;\n",
       "    }\n",
       "\n",
       "    .dataframe thead th {\n",
       "        text-align: right;\n",
       "    }\n",
       "</style>\n",
       "<table border=\"1\" class=\"dataframe\">\n",
       "  <thead>\n",
       "    <tr style=\"text-align: right;\">\n",
       "      <th></th>\n",
       "      <th>temp_high</th>\n",
       "      <th>temp_low</th>\n",
       "      <th>rain_amt</th>\n",
       "    </tr>\n",
       "  </thead>\n",
       "  <tbody>\n",
       "    <tr>\n",
       "      <th>26</th>\n",
       "      <td>0.322301</td>\n",
       "      <td>1.110996</td>\n",
       "      <td>-0.413021</td>\n",
       "    </tr>\n",
       "    <tr>\n",
       "      <th>8</th>\n",
       "      <td>0.132091</td>\n",
       "      <td>-0.914843</td>\n",
       "      <td>-0.413021</td>\n",
       "    </tr>\n",
       "    <tr>\n",
       "      <th>27</th>\n",
       "      <td>1.739371</td>\n",
       "      <td>0.951823</td>\n",
       "      <td>-0.413021</td>\n",
       "    </tr>\n",
       "    <tr>\n",
       "      <th>12</th>\n",
       "      <td>-0.058120</td>\n",
       "      <td>-0.350502</td>\n",
       "      <td>-0.413021</td>\n",
       "    </tr>\n",
       "    <tr>\n",
       "      <th>21</th>\n",
       "      <td>-0.828473</td>\n",
       "      <td>0.098076</td>\n",
       "      <td>-0.019226</td>\n",
       "    </tr>\n",
       "  </tbody>\n",
       "</table>\n",
       "</div>"
      ],
      "text/plain": [
       "    temp_high  temp_low  rain_amt\n",
       "26   0.322301  1.110996 -0.413021\n",
       "8    0.132091 -0.914843 -0.413021\n",
       "27   1.739371  0.951823 -0.413021\n",
       "12  -0.058120 -0.350502 -0.413021\n",
       "21  -0.828473  0.098076 -0.019226"
      ]
     },
     "execution_count": 38,
     "metadata": {},
     "output_type": "execute_result"
    }
   ],
   "source": [
    "# prepare features (X - input variables) and the target (y) variable\n",
    "numerical_features = ['temp_high', 'temp_low', 'rain_amt']\n",
    "\n",
    "X = bike[numerical_features]\n",
    "y = bike['total_cyclists']\n",
    "\n",
    "# 90-10 split\n",
    "# split the data into training and testing sets\n",
    "X_train, X_test, y_train, y_test = train_test_split(X, y, test_size=0.1, random_state=123)\n",
    "\n",
    "scaler = StandardScaler()\n",
    "\n",
    "scaler.fit(X_train[numerical_features])\n",
    "\n",
    "X_train.loc[:, numerical_features] = scaler.transform(X_train[numerical_features])\n",
    "\n",
    "X_train[numerical_features].head()"
   ]
  },
  {
   "cell_type": "markdown",
   "id": "678ba606-c314-4f0b-893c-478f54b9c87b",
   "metadata": {
    "tags": []
   },
   "source": [
    "## Optimizing a single hyperparameter"
   ]
  },
  {
   "cell_type": "code",
   "execution_count": 55,
   "id": "e4f942cd-e5f5-4c54-97a1-698f94167463",
   "metadata": {
    "tags": []
   },
   "outputs": [
    {
     "name": "stdout",
     "output_type": "stream",
     "text": [
      "Best n_neighbors: 26\n",
      "Best MAE: 5816.961538461539\n"
     ]
    }
   ],
   "source": [
    "# Define the model and specify the hyperparameter to optimize\n",
    "# Define the KNeighborsRegressor model\n",
    "model = KNeighborsRegressor()\n",
    "\n",
    "# Define the hyperparameter to optimize (e.g., n_neighbors)\n",
    "hyperparameter = \"n_neighbors\"\n",
    "\n",
    "best_mae = float(\"inf\")  # Initialize the best mean absolute error (MAE) with a large value\n",
    "best_hyperparam_value = None  # Initialize the best hyperparameter value\n",
    "\n",
    "mae_values = []  # List to store the MAE values\n",
    "\n",
    "# Iterate over different hyperparameter values and select the one with the lowest MAE\n",
    "for param_value in range(1, 27):  # Example range for K from 1 to 27\n",
    "    # Set the current hyperparameter value\n",
    "    setattr(model, hyperparameter, param_value)\n",
    "\n",
    "    # Fit the model on the training data\n",
    "    model.fit(X_train, y_train)\n",
    "\n",
    "    # Make predictions on the testing data\n",
    "    y_pred = model.predict(X_test)\n",
    "\n",
    "    # Calculate the mean absolute error (MAE)\n",
    "    mae = mean_absolute_error(y_test, y_pred)\n",
    "\n",
    "    # Check if the current MAE is the best so far\n",
    "    if mae < best_mae:\n",
    "        best_mae = mae\n",
    "        best_hyperparam_value = param_value\n",
    "        \n",
    "    # Append the MAE value to the list\n",
    "    mae_values.append(mae)\n",
    "\n",
    "\n",
    "# Print the best hyperparameter value and its corresponding MAE\n",
    "print(f\"Best {hyperparameter}: {best_hyperparam_value}\")\n",
    "print(f\"Best MAE: {best_mae}\")\n"
   ]
  },
  {
   "cell_type": "code",
   "execution_count": 56,
   "id": "64460418-22ba-48ee-b51a-25af2a7e548f",
   "metadata": {
    "tags": []
   },
   "outputs": [
    {
     "data": {
      "image/png": "[encoded data removed]",
      "text/plain": [
       "<Figure size 640x480 with 1 Axes>"
      ]
     },
     "metadata": {},
     "output_type": "display_data"
    }
   ],
   "source": [
    "# Plot the MAE values against the corresponding K values\n",
    "# Plot the MAE values\n",
    "plt.plot(range(1, 27), mae_values, marker='o')\n",
    "\n",
    "# Set the labels and title\n",
    "plt.xlabel('Hyperparameter K')\n",
    "plt.ylabel('MAE')\n",
    "plt.title('MAE vs. Hyperparameter K in KNN')\n",
    "\n",
    "# Show the plot\n",
    "plt.show()\n"
   ]
  },
  {
   "cell_type": "code",
   "execution_count": 50,
   "id": "59b36d05-5883-47a4-9fe8-1655edbe462e",
   "metadata": {
    "tags": []
   },
   "outputs": [
    {
     "name": "stdout",
     "output_type": "stream",
     "text": [
      "Best n_estimators: 28\n",
      "Best MAE: 5699.25\n"
     ]
    }
   ],
   "source": [
    "# Define the model and specify the hyperparameter to optimize\n",
    "# Define the RandomForestRegressor model\n",
    "model = RandomForestRegressor(random_state=123)\n",
    "\n",
    "# Define the hyperparameter to optimize (e.g., n_estimators)\n",
    "hyperparameter = \"n_estimators\"\n",
    "\n",
    "best_mae = float(\"inf\")  # Initialize the best mean absolute error (MAE) with a large value\n",
    "best_hyperparam_value = None  # Initialize the best hyperparameter value\n",
    "\n",
    "mae_values = []  # List to store the MAE values\n",
    "\n",
    "# Iterate over different hyperparameter values and select the one with the lowest MAE\n",
    "for param_value in range(1, 30):  # Example range for n_estimators from 1 to 30\n",
    "    # Set the current hyperparameter value\n",
    "    setattr(model, hyperparameter, param_value)\n",
    "\n",
    "    # Fit the model on the training data\n",
    "    model.fit(X_train, y_train)\n",
    "\n",
    "    # Make predictions on the testing data\n",
    "    y_pred = model.predict(X_test)\n",
    "\n",
    "    # Calculate the mean absolute error (MAE)\n",
    "    mae = mean_absolute_error(y_test, y_pred)\n",
    "\n",
    "    # Check if the current MAE is the best so far\n",
    "    if mae < best_mae:\n",
    "        best_mae = mae\n",
    "        best_hyperparam_value = param_value\n",
    "        \n",
    "    # Append the MAE value to the list\n",
    "    mae_values.append(mae)\n",
    "\n",
    "# Print the best hyperparameter value and its corresponding MAE\n",
    "print(f\"Best {hyperparameter}: {best_hyperparam_value}\")\n",
    "print(f\"Best MAE: {best_mae}\")\n"
   ]
  },
  {
   "cell_type": "markdown",
   "id": "d92b2c2c-f5a2-4764-9bbc-de80630e4855",
   "metadata": {},
   "source": [
    "## Optimizing for more than one parameter"
   ]
  },
  {
   "cell_type": "code",
   "execution_count": 57,
   "id": "db907a36-56af-4a07-9603-3e0ec1b38a13",
   "metadata": {
    "tags": []
   },
   "outputs": [
    {
     "name": "stdout",
     "output_type": "stream",
     "text": [
      "Best Hyperparameters: {'max_depth': 5, 'max_features': 2, 'n_estimators': 150}\n",
      "Best MAE: 3088.2275038529365\n"
     ]
    }
   ],
   "source": [
    "# Define the model and specify the hyperparameter to optimize\n",
    "# Define the RandomForestRegressor model\n",
    "model = RandomForestRegressor(random_state=123)\n",
    "\n",
    "# Define the hyperparameter grid\n",
    "param_grid = {\n",
    "    'max_depth': [5, 10, 15],\n",
    "    'max_features': [2, 4, 6],\n",
    "    'n_estimators': [50, 100, 150]\n",
    "}\n",
    "\n",
    "# Perform grid search with cross-validation\n",
    "grid_search = GridSearchCV(model, param_grid, cv=5, scoring='neg_mean_absolute_error')\n",
    "grid_search.fit(X, y)\n",
    "\n",
    "# Get the best hyperparameters and corresponding MAE\n",
    "best_params = grid_search.best_params_\n",
    "best_mae = -grid_search.best_score_\n",
    "\n",
    "# Print the results\n",
    "print(\"Best Hyperparameters:\", best_params)\n",
    "print(\"Best MAE:\", best_mae)\n"
   ]
  }
 ],
 "metadata": {
  "kernelspec": {
   "display_name": "Python 3 (ipykernel)",
   "language": "python",
   "name": "python3"
  },
  "language_info": {
   "codemirror_mode": {
    "name": "ipython",
    "version": 3
   },
   "file_extension": ".py",
   "mimetype": "text/x-python",
   "name": "python",
   "nbconvert_exporter": "python",
   "pygments_lexer": "ipython3",
   "version": "3.11.3"
  }
 },
 "nbformat": 4,
 "nbformat_minor": 5
}
